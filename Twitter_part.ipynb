{
  "nbformat": 4,
  "nbformat_minor": 0,
  "metadata": {
    "colab": {
      "name": "Twitter part",
      "provenance": [],
      "collapsed_sections": [],
      "include_colab_link": true
    },
    "kernelspec": {
      "name": "python3",
      "display_name": "Python 3"
    },
    "language_info": {
      "name": "python"
    }
  },
  "cells": [
    {
      "cell_type": "markdown",
      "metadata": {
        "id": "view-in-github",
        "colab_type": "text"
      },
      "source": [
        "<a href=\"https://colab.research.google.com/github/rayss/Project/blob/main/Twitter_part.ipynb\" target=\"_parent\"><img src=\"https://colab.research.google.com/assets/colab-badge.svg\" alt=\"Open In Colab\"/></a>"
      ]
    },
    {
      "cell_type": "code",
      "execution_count": null,
      "metadata": {
        "colab": {
          "base_uri": "https://localhost:8080/"
        },
        "id": "eiXkvDg61ipO",
        "outputId": "e1d56f76-e3e0-4f4b-ff49-0f74bb402016"
      },
      "outputs": [
        {
          "output_type": "stream",
          "name": "stdout",
          "text": [
            "Looking in indexes: https://pypi.org/simple, https://us-python.pkg.dev/colab-wheels/public/simple/\n",
            "Collecting tweepy==4\n",
            "  Downloading tweepy-4.0.0-py2.py3-none-any.whl (60 kB)\n",
            "\u001b[K     |████████████████████████████████| 60 kB 3.0 MB/s \n",
            "\u001b[?25hRequirement already satisfied: requests<3,>=2.11.1 in /usr/local/lib/python3.7/dist-packages (from tweepy==4) (2.23.0)\n",
            "Requirement already satisfied: requests-oauthlib<2,>=1.0.0 in /usr/local/lib/python3.7/dist-packages (from tweepy==4) (1.3.1)\n",
            "Requirement already satisfied: certifi>=2017.4.17 in /usr/local/lib/python3.7/dist-packages (from requests<3,>=2.11.1->tweepy==4) (2022.5.18.1)\n",
            "Requirement already satisfied: chardet<4,>=3.0.2 in /usr/local/lib/python3.7/dist-packages (from requests<3,>=2.11.1->tweepy==4) (3.0.4)\n",
            "Requirement already satisfied: urllib3!=1.25.0,!=1.25.1,<1.26,>=1.21.1 in /usr/local/lib/python3.7/dist-packages (from requests<3,>=2.11.1->tweepy==4) (1.24.3)\n",
            "Requirement already satisfied: idna<3,>=2.5 in /usr/local/lib/python3.7/dist-packages (from requests<3,>=2.11.1->tweepy==4) (2.10)\n",
            "Requirement already satisfied: oauthlib>=3.0.0 in /usr/local/lib/python3.7/dist-packages (from requests-oauthlib<2,>=1.0.0->tweepy==4) (3.2.0)\n",
            "Installing collected packages: tweepy\n",
            "  Attempting uninstall: tweepy\n",
            "    Found existing installation: tweepy 3.10.0\n",
            "    Uninstalling tweepy-3.10.0:\n",
            "      Successfully uninstalled tweepy-3.10.0\n",
            "Successfully installed tweepy-4.0.0\n"
          ]
        }
      ],
      "source": [
        "! pip install tweepy==4"
      ]
    },
    {
      "cell_type": "code",
      "source": [
        "from oauth2client.service_account import ServiceAccountCredentials\n",
        "import gspread\n",
        "import json\n",
        "scopes = [\n",
        "'https://www.googleapis.com/auth/spreadsheets',\n",
        "'https://www.googleapis.com/auth/drive'\n",
        "]\n",
        "credentials = ServiceAccountCredentials.from_json_keyfile_name(\"[extract-display-dance-4a3ec1e27340].json\", scopes) #access the json key you downloaded earlier\n",
        "file = gspread.authorize(credentials) # authenticate the JSON key with gspread\n",
        "sheet = file.open(\"Extract Display Dance\")  #open sheet\n",
        "sheet = sheet.our_sheet  #replace sheet_name with the name that corresponds to yours, e.g, it can be sheet1\n"
      ],
      "metadata": {
        "id": "Nf_lz6zam3ve"
      },
      "execution_count": null,
      "outputs": []
    },
    {
      "cell_type": "code",
      "source": [
        "import tweepy\n",
        "import time\n",
        "import json\n",
        "\n",
        "##################\n",
        "# Authentication #\n",
        "##################\n",
        "BEARER_TOKEN = \"AAAAAAAAAAAAAAAAAAAAALn0cwEAAAAAglFN63i84ia9ZmYjuTqpPpTz8As%3DXcg9XBg2fDc6vu9b5oWnU4FOKNOD3TKzH9EVDdKXSs4uwe7WtZ\"\n",
        "\n",
        "client = tweepy.Client(bearer_token= BEARER_TOKEN,\n",
        "    wait_on_rate_limit=True,\n",
        ")\n"
      ],
      "metadata": {
        "id": "46tBC4j-1s61"
      },
      "execution_count": null,
      "outputs": []
    },
    {
      "cell_type": "code",
      "source": [
        "#####################\n",
        "# Search for Tweets #\n",
        "#####################\n",
        "\n",
        "# https://docs.tweepy.org/en/stable/client.html#tweepy.Client.search_recent_tweets\n",
        "# https://developer.twitter.com/en/docs/twitter-api/tweets/search/integrate/build-a-query\n",
        "\n",
        "# - means NOT\n",
        "search_query = \"adidas -is:retweet lang:en\" # SEARCHING FOR WORD 'python' + not retweets + in English\n",
        "for n in [1,2,3,4,5,6,7,8,9]:\n",
        "    cursor = tweepy.Paginator(\n",
        "    method=client.search_recent_tweets,\n",
        "    query=search_query,\n",
        "    tweet_fields=['author_id', 'created_at', 'public_metrics'],\n",
        ").flatten(limit=1)\n",
        "tweets = []\n",
        "for tweet in cursor:\n",
        "    #print(tweet.text+'\\n') # NOTICE THAT WE ARE PRINTING ONLY TEXT\n",
        "    print('\\n\\n-----NEXT TWEET------\\n\\n')\n",
        "    #tweets.append({'author_id': tweet['author_id'], 'text': tweet.text})\n",
        "    jsonString = json.dumps({'author_id': tweet['author_id'], 'text': tweet.text})\n",
        "    print(jsonString)\n",
        "    time.sleep(15) # Sleep for 15 seconds\n",
        "     ## maja_s_fuction_to_put_things_in_gsheet(tweet)"
      ],
      "metadata": {
        "colab": {
          "base_uri": "https://localhost:8080/"
        },
        "id": "Zqx_HQEK15Dj",
        "outputId": "6fd83af7-2874-4acb-e035-153d49dfd3ec"
      },
      "execution_count": null,
      "outputs": [
        {
          "output_type": "stream",
          "name": "stdout",
          "text": [
            "\n",
            "\n",
            "-----NEXT TWEET------\n",
            "\n",
            "\n",
            "{\"author_id\": 1494422080401682433, \"text\": \"@ExileEccles @BigLez67 He\\u2019s feeling peacefully good and got the adidas gazelles on \\ud83d\\udd7a\"}\n"
          ]
        }
      ]
    },
    {
      "cell_type": "code",
      "source": [
        "https://pythonexamples.org/python-list-to-json/"
      ],
      "metadata": {
        "id": "wAQXRJYMpD7n"
      },
      "execution_count": null,
      "outputs": []
    }
  ]
}